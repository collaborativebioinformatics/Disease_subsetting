{
 "cells": [
  {
   "cell_type": "code",
   "execution_count": 1,
   "id": "f0512b18",
   "metadata": {},
   "outputs": [
    {
     "name": "stdout",
     "output_type": "stream",
     "text": [
      "        Capecitabine [DR:D01223]\n",
      "            Floxuridine [DR:D04197]\n",
      "            Trifluridine and tipiracil hydrochloride [DR:D10526]\n",
      "            Irinotecan hydrochloride [DR:D01061]\n",
      "            Encorafenib [DR:D11053] (BRAF mutation positive)\n",
      "            Regorafenib hydrate [DR:D10137]\n",
      "            Cetuximab [DR:D03455] (K-Ras wild type, EGFR-expressing)\n",
      "            Panitumumab [DR:D05350] (KRAS and NRAS wild type)\n",
      "            Nivolumab [DR:D10316] (MSI-H or dMMR)\n",
      "            Pembrolizumab [DR:D10574] (MSI-H)\n",
      "            Bevacizumab [DR:D06409]\n",
      "            Ramucirumab [DR:D09371]\n",
      "            Oxaliplatin [DR:D01790]\n",
      "            Aflibercept [DR:D09574]\n",
      "            Leucovorin calcium [DR:D01211]\n",
      "            Levoleucovorin calcium [DR:D04715]\n",
      "            Calcium levofolinate hydrate [DR:D11555]\n",
      "            Sodium levofolinate [DR:D11394]\n",
      "\n"
     ]
    }
   ],
   "source": [
    "import requests\n",
    "headers = {'User-Agent': 'XY','Content-type': 'application/json'}\n",
    "r = requests.get('http://rest.kegg.jp/get/H00020', headers=headers)\n",
    "# print(r.status_code)\n",
    "# print(r.text)\n",
    "\n",
    "s = r.text.split(\"DRUG\")[1].split(\"DBLINKS\")[0]\n",
    "print(s)\n"
   ]
  },
  {
   "cell_type": "code",
   "execution_count": 7,
   "id": "5d257de8",
   "metadata": {},
   "outputs": [
    {
     "name": "stdout",
     "output_type": "stream",
     "text": [
      "['Capecitabine', 'Floxuridine', 'Trifluridine and tipiracil hydrochloride', 'Irinotecan hydrochloride', 'Encorafenib', 'Regorafenib hydrate', 'Cetuximab', 'Panitumumab', 'Nivolumab', 'Pembrolizumab', 'Bevacizumab', 'Ramucirumab', 'Oxaliplatin', 'Aflibercept', 'Leucovorin calcium', 'Levoleucovorin calcium', 'Calcium levofolinate hydrate', 'Sodium levofolinate']\n",
      "['D01223', 'D04197', 'D10526', 'D01061', 'D11053', 'D10137', 'D03455', 'D05350', 'D10316', 'D10574', 'D06409', 'D09371', 'D01790', 'D09574', 'D01211', 'D04715', 'D11555', 'D11394']\n",
      "18 18\n"
     ]
    }
   ],
   "source": [
    "drugnames = []; drugcodes = [] \n",
    "for i in s.split(\"\\n\"):\n",
    "    if i != '':\n",
    "        name = i.split(\" [DR:\")[0].lstrip() \n",
    "        drugnames.append(name)\n",
    "\n",
    "\n",
    "        DR = i.split(\" [DR:\")[1].split(\"]\")[0]\n",
    "        drugcodes.append(DR)\n",
    "\n",
    "print(drugnames)\n",
    "print(drugcodes)\n",
    "print(len(drugnames), len(drugcodes))"
   ]
  },
  {
   "cell_type": "code",
   "execution_count": 8,
   "id": "5c98474a",
   "metadata": {},
   "outputs": [
    {
     "name": "stdout",
     "output_type": "stream",
     "text": [
      "11\n",
      "11\n",
      "11\n",
      "11\n"
     ]
    }
   ],
   "source": [
    "import re\n",
    "import itertools\n",
    "splitters = [\"METABOLISM\", \"INTERACTION\", \"SYN_MAP\", \"STR_MAP\", \"OTHER_MAP\", \"BRITE\", \"DBLINKS\"]\n",
    "\n",
    "drug_linkers = []; error_indices = [] \n",
    "drug_target_genes = []; drug_target_pathways = [] \n",
    "for index, dc in enumerate(drugcodes): \n",
    "\n",
    "    r = requests.get('http://rest.kegg.jp/get/'+dc, headers=headers)\n",
    "    try:\n",
    "        target_gene = r.text.split(\"TARGET      \")[1].split(\"  \")[0].split('\\n')[0]  # did check that only 1 target gene exists for all \n",
    "        target_pathway = r.text.split(\"  PATHWAY   \")[1]\n",
    "    \n",
    "        the_newest_regex = \"({})\".format(\"|\".join(re.escape(s) for s in splitters))\n",
    "        the_raw_split = re.split(the_newest_regex, target_pathway)\n",
    "        the_actual_split = [\"\".join(x) for x in itertools.zip_longest([\"\"] + the_raw_split[1::2], the_raw_split[::2], fillvalue='')]\n",
    "\n",
    "        target_pathway = [] \n",
    "        for i in the_actual_split[0].split(\"\\n\"):\n",
    "            target_pathway.append(i.lstrip())\n",
    "        target_pathway = target_pathway[:-1]\n",
    "\n",
    "        drug_target_pathways.append(target_pathway)\n",
    "        drug_target_genes.append(target_gene)\n",
    "#         drug_target_gene_codes.append(\"HSA:\" + target_gene.split(\" [HSA:\")[1].split(\"]\")[0])\n",
    "        \n",
    "    except:\n",
    "        error_indices.append(index)\n",
    "\n",
    "for i in sorted(error_indices, reverse=True):\n",
    "    del drugnames[i]\n",
    "    del drugcodes[i]\n",
    "print(len(drugnames))\n",
    "print(len(drugcodes))      \n",
    "print(len(drug_target_pathways))\n",
    "print(len(drug_target_genes))\n",
    "# print(len(drug_target_gene_codes))\n"
   ]
  },
  {
   "cell_type": "code",
   "execution_count": 10,
   "id": "7806292c",
   "metadata": {},
   "outputs": [
    {
     "name": "stdout",
     "output_type": "stream",
     "text": [
      "['TYMS [HSA:7298] [KO:K00560]', 'TYMS [HSA:7298] [KO:K00560]', 'BRAF* [HSA_VAR:673v1] [HSA:673] [KO:K04365]', 'VEGFR1 (FLT1) [HSA:2321] [KO:K05096]', 'EGFR [HSA:1956] [KO:K04361]', 'EGFR [HSA:1956] [KO:K04361]', 'PDCD1 (PD1, CD279) [HSA:5133] [KO:K06744]', 'PDCD1 (PD1, CD279) [HSA:5133] [KO:K06744]', 'VEGFA [HSA:7422] [KO:K05448]', 'VEGFR2 (KDR) [HSA:3791] [KO:K05098]', 'VEGFA [HSA:7422] [KO:K05448]']\n"
     ]
    }
   ],
   "source": [
    "print(drug_target_genes)"
   ]
  },
  {
   "cell_type": "code",
   "execution_count": 11,
   "id": "4012e2a8",
   "metadata": {},
   "outputs": [
    {
     "name": "stdout",
     "output_type": "stream",
     "text": [
      "[['hsa00240(7298)  Pyrimidine metabolism', 'hsa00670(7298)  One carbon pool by folate'], ['hsa00240(7298)  Pyrimidine metabolism', 'hsa00670(7298)  One carbon pool by folate'], ['hsa04010(673)  MAPK signaling pathway', 'hsa04012(673)  ErbB signaling pathway', 'hsa05200(673)  Pathways in cancer', 'hsa05218(673)  Melanoma'], ['hsa04010(2260+2321+2324+3791+3815+5159+5894+673+7010)  MAPK signaling pathway', 'hsa04370(3791+5894)  VEGF signaling pathway', 'hsa05200(2260+2324+3815+5159+5894+5979+673)  Pathways in cancer', 'hsa05210(5894+673)  Colorectal cancer', 'hsa05225(5894+673)  Hepatocellular carcinoma'], ['hsa04010(1956)  MAPK signaling pathway', 'hsa04012(1956)  ErbB signaling pathway', 'hsa05200(1956)  Pathways in cancer'], ['hsa04010(1956)  MAPK signaling pathway', 'hsa04012(1956)  ErbB signaling pathway', 'hsa05200(1956)  Pathways in cancer'], ['hsa04514(5133)  Cell adhesion molecules', 'hsa04660(5133)  T cell receptor signaling pathway', 'hsa05235(5133)  PD-L1 expression and PD-1 checkpoint pathway in cancer'], ['hsa04514(5133)  Cell adhesion molecules', 'hsa04660(5133)  T cell receptor signaling pathway', 'hsa05235(5133)  PD-L1 expression and PD-1 checkpoint pathway in cancer'], ['hsa04370(7422)  VEGF signaling pathway', 'hsa05200(7422)  Pathways in cancer', 'hsa05211(7422)  Renal cell carcinoma'], ['hsa04370(3791)  VEGF signaling pathway'], ['hsa04370(7422)  VEGF signaling pathway', 'hsa05200(5228+7422+7423)  Pathways in cancer']]\n"
     ]
    }
   ],
   "source": [
    "print(drug_target_pathways)"
   ]
  },
  {
   "cell_type": "code",
   "execution_count": null,
   "id": "69c79e6b",
   "metadata": {},
   "outputs": [],
   "source": []
  }
 ],
 "metadata": {
  "kernelspec": {
   "display_name": "Python 3 (ipykernel)",
   "language": "python",
   "name": "python3"
  },
  "language_info": {
   "codemirror_mode": {
    "name": "ipython",
    "version": 3
   },
   "file_extension": ".py",
   "mimetype": "text/x-python",
   "name": "python",
   "nbconvert_exporter": "python",
   "pygments_lexer": "ipython3",
   "version": "3.8.12"
  }
 },
 "nbformat": 4,
 "nbformat_minor": 5
}
